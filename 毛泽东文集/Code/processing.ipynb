{
 "cells": [
  {
   "cell_type": "code",
   "execution_count": 3,
   "metadata": {},
   "outputs": [],
   "source": [
    "import os\n",
    "import glob\n",
    "from bs4 import BeautifulSoup\n",
    "import re"
   ]
  },
  {
   "cell_type": "code",
   "execution_count": 30,
   "metadata": {},
   "outputs": [],
   "source": [
    "# 将 .\\Epub source 中每一卷文件夹中的所有 .html 文件各合并为一个 .txt 文件，存于 .\\Output 文件夹中\n",
    "\n",
    "def get_text_from_html(html):\n",
    "    soup = BeautifulSoup(html, 'html.parser')\n",
    "    return soup.get_text()\n",
    "\n",
    "# Define the root folder\n",
    "root_folder = os.path.relpath(r'..\\Epub source')\n",
    "\n",
    "# Iterate over the subfolders within the root folder\n",
    "for folder in sorted(os.listdir(root_folder)):\n",
    "    folder_path = os.path.join(root_folder, folder)\n",
    "    \n",
    "    # Check if the item is a subfolder\n",
    "    if os.path.isdir(folder_path):\n",
    "        # Accumulate the text from HTML files\n",
    "        text = \"\"\n",
    "        \n",
    "        # Find all .html files within the subfolder\n",
    "        html_files = glob.glob(os.path.join(folder_path, \"*.html\"))\n",
    "        \n",
    "        # Iterate over the HTML files\n",
    "        for file in sorted(html_files):\n",
    "            with open(file, \"r\") as f:\n",
    "                html_content = f.read()\n",
    "                text += get_text_from_html(html_content)\n",
    "        \n",
    "        # Write the accumulated text to a .txt file\n",
    "        output_file = os.path.join(os.path.relpath(r'..\\Output'), folder + \".txt\")\n",
    "        with open(output_file, \"w\") as f:\n",
    "            f.write(text)"
   ]
  },
  {
   "cell_type": "code",
   "execution_count": 31,
   "metadata": {},
   "outputs": [],
   "source": [
    "def clean_text(txt):\n",
    "\n",
    "    # Remove the \"未知\" lines\n",
    "    pattern = r'\\n*\\s*未知\\s*\\n*'\n",
    "    cleaned_txt = re.sub(pattern, '', txt)\n",
    "\n",
    "    # Remove the \"Chapter_[1,10]\\n\" lines\n",
    "    cleaned_txt = re.sub(r'Chapter_\\d+\\n', '', cleaned_txt)\n",
    "\n",
    "    # Remove 注释 and delineate each passage by '-----'\n",
    "    pattern = r'--------------------------------------------------------------------------------\\n*?\\s*注释\\s*(\\[.*?\\].*\\s*)*\\n*'\n",
    "    cleaned_txt = re.sub(pattern, r'-----\\n', cleaned_txt)\n",
    "    # To account for an anomoly whereby 注释 is not preceeded by a line containing eighty hypens :(\n",
    "    pattern = r'\\s*注释\\s*(\\[.*?\\].*\\s*)*\\n*'\n",
    "    cleaned_txt = re.sub(pattern, r'\\n\\n\\n\\n-----\\n', cleaned_txt)\n",
    "\n",
    "    # Remove '毛泽东文集 第？卷\\s*'\n",
    "    pattern = r'毛泽东文集 第.*?卷\\s*'\n",
    "    cleaned_txt = re.sub(pattern, '', cleaned_txt)\n",
    "\n",
    "    # Remove all in-text annotation markers\n",
    "    pattern = r'\\[.*?\\]'\n",
    "    cleaned_txt = re.sub(pattern, '', cleaned_txt)\n",
    "\n",
    "    return cleaned_txt.strip()\n",
    "\n",
    "# Define the root folder\n",
    "root_folder = os.path.relpath(r'..\\Output')\n",
    "\n",
    "# Iterate over the .txt files within the root folder\n",
    "for file in sorted(glob.glob(os.path.join(root_folder, \"*.txt\"))):\n",
    "    with open(file, \"r\") as f:\n",
    "        txt = f.read()\n",
    "        cleaned_txt = clean_text(txt)\n",
    "        \n",
    "        # Write the cleaned text back to the .txt file\n",
    "        with open(file, \"w\") as f:\n",
    "            f.write(cleaned_txt)"
   ]
  },
  {
   "cell_type": "code",
   "execution_count": null,
   "metadata": {},
   "outputs": [],
   "source": []
  }
 ],
 "metadata": {
  "kernelspec": {
   "display_name": "NRP",
   "language": "python",
   "name": "python3"
  },
  "language_info": {
   "codemirror_mode": {
    "name": "ipython",
    "version": 3
   },
   "file_extension": ".py",
   "mimetype": "text/x-python",
   "name": "python",
   "nbconvert_exporter": "python",
   "pygments_lexer": "ipython3",
   "version": "3.12.3"
  }
 },
 "nbformat": 4,
 "nbformat_minor": 2
}
