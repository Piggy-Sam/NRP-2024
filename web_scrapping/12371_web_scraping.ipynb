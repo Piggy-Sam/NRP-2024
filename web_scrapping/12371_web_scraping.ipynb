{
 "cells": [
  {
   "cell_type": "code",
   "execution_count": 1,
   "metadata": {},
   "outputs": [],
   "source": [
    "import requests\n",
    "\n",
    "URL = \"https://www.12371.cn/special/xxzd/jh/\"\n",
    "page = requests.get(URL)\n",
    "# print(page.text)"
   ]
  },
  {
   "cell_type": "code",
   "execution_count": 2,
   "metadata": {},
   "outputs": [],
   "source": [
    "# Find all URLs in page\n",
    "\n",
    "import re\n",
    "\n",
    "# Define the regular expression pattern to match URLs\n",
    "url_pattern = re.compile(r'http[s]?://(?:[a-zA-Z]|[0-9]|[$-_@.&+]|[!*\\\\(\\\\),]|(?:%[0-9a-fA-F][0-9a-fA-F]))+')\n",
    "\n",
    "# Find all URLs in the page text\n",
    "urls = re.findall(url_pattern, page.text)"
   ]
  },
  {
   "cell_type": "code",
   "execution_count": 3,
   "metadata": {},
   "outputs": [],
   "source": [
    "# Filter URLs to leave only the speech articles\n",
    "\n",
    "filtered_urls = [url for url in urls if \"news.12371.cn\" in url and \"ARTI\" in url]\n",
    "filtered_urls = [url.replace(\"','title':'\", \"\") for url in filtered_urls]"
   ]
  },
  {
   "cell_type": "code",
   "execution_count": 4,
   "metadata": {},
   "outputs": [],
   "source": [
    "# Write filtered URLs to a file\n",
    "\n",
    "with open('12371_urls.txt', 'w') as file:\n",
    "    for url in filtered_urls:\n",
    "        file.write(url + '\\n')"
   ]
  },
  {
   "cell_type": "code",
   "execution_count": null,
   "metadata": {},
   "outputs": [],
   "source": []
  }
 ],
 "metadata": {
  "kernelspec": {
   "display_name": "base",
   "language": "python",
   "name": "python3"
  },
  "language_info": {
   "codemirror_mode": {
    "name": "ipython",
    "version": 3
   },
   "file_extension": ".py",
   "mimetype": "text/x-python",
   "name": "python",
   "nbconvert_exporter": "python",
   "pygments_lexer": "ipython3",
   "version": "3.12.3"
  }
 },
 "nbformat": 4,
 "nbformat_minor": 2
}
