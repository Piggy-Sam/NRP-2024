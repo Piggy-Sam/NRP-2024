{
 "cells": [
  {
   "cell_type": "code",
   "execution_count": 37,
   "metadata": {},
   "outputs": [],
   "source": [
    "from selenium import webdriver\n",
    "from selenium.webdriver.common.keys import Keys\n",
    "from selenium.webdriver.common.by import By\n",
    "\n",
    "import time\n",
    "\n",
    "driver = webdriver.Chrome()\n",
    "\n",
    "driver.get(\"http://jhsjk.people.cn/\")\n",
    "\n",
    "# 点击“讲话”按钮\n",
    "jhButton = driver.find_element(By.XPATH, '/html/body/div/div[3]/a[1]')\n",
    "jhButton.click()\n",
    "\n",
    "# Switch to the new tab\n",
    "driver.switch_to.window(driver.window_handles[-1])\n",
    "\n",
    "# Switch back to the original tab if needed\n",
    "# driver.switch_to.window(driver.window_handles[0])"
   ]
  },
  {
   "cell_type": "code",
   "execution_count": 57,
   "metadata": {},
   "outputs": [],
   "source": [
    "# Function to get URL from list items, 10 list items per page\n",
    "def get_urls():\n",
    "    urls = []\n",
    "    for i in range(1, 11):\n",
    "        xpath = f\"/html/body/div[6]/div[1]/ul/li[{i}]/a\"\n",
    "        try:\n",
    "            element = driver.find_element(By.XPATH, xpath)\n",
    "            url = element.get_attribute(\"href\")\n",
    "            urls.append(url)\n",
    "        except:\n",
    "            break\n",
    "    return urls"
   ]
  },
  {
   "cell_type": "code",
   "execution_count": 58,
   "metadata": {},
   "outputs": [],
   "source": [
    "urls = []\n",
    "# get_urls() on 1st page\n",
    "urls.extend(get_urls())\n",
    "\n",
    "# 2nd page\n",
    "driver.find_element(By.XPATH, '/html/body/div[6]/div[1]/div/span[2]').click()\n",
    "time.sleep(0.5)\n",
    "urls.extend(get_urls())\n",
    "\n",
    "# 3rd page\n",
    "driver.find_element(By.XPATH, '/html/body/div[6]/div[1]/div/span[3]').click()\n",
    "time.sleep(0.5)\n",
    "urls.extend(get_urls())\n",
    "\n",
    "# All pages afterwards\n",
    "while True:\n",
    "    try:\n",
    "        driver.find_element(By.XPATH, '/html/body/div[6]/div[1]/div/span[4]').click()\n",
    "        time.sleep(0.5)\n",
    "        urls.extend(get_urls())\n",
    "    except:\n",
    "        break"
   ]
  },
  {
   "cell_type": "code",
   "execution_count": 59,
   "metadata": {},
   "outputs": [],
   "source": [
    "# Save scrapped URLs to file\n",
    "with open('jhsjk_urls.txt', 'w') as file:\n",
    "    for url in urls:\n",
    "        file.write(url + '\\n')"
   ]
  },
  {
   "cell_type": "code",
   "execution_count": null,
   "metadata": {},
   "outputs": [],
   "source": [
    "# Read URLs from file\n",
    "urls = []\n",
    "with open('jhsjk_urls.txt', 'r') as file:\n",
    "    for line in file:\n",
    "        url = line.strip()\n",
    "        urls.append(url)"
   ]
  }
 ],
 "metadata": {
  "kernelspec": {
   "display_name": "NRP",
   "language": "python",
   "name": "python3"
  },
  "language_info": {
   "codemirror_mode": {
    "name": "ipython",
    "version": 3
   },
   "file_extension": ".py",
   "mimetype": "text/x-python",
   "name": "python",
   "nbconvert_exporter": "python",
   "pygments_lexer": "ipython3",
   "version": "3.12.3"
  }
 },
 "nbformat": 4,
 "nbformat_minor": 2
}
