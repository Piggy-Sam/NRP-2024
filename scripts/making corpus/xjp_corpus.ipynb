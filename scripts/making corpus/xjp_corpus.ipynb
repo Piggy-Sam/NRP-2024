{
 "cells": [
  {
   "cell_type": "code",
   "execution_count": null,
   "metadata": {},
   "outputs": [],
   "source": [
    "import os\n",
    "import re\n",
    "from datetime import datetime\n",
    "\n",
    "# Define the paths\n",
    "input_folder = os.path.relpath(r'..\\..\\texts\\12371')\n",
    "output_folder = os.path.relpath(r'..\\..\\corpus\\mao')"
   ]
  }
 ],
 "metadata": {
  "kernelspec": {
   "display_name": "Python 3",
   "language": "python",
   "name": "python3"
  },
  "language_info": {
   "name": "python",
   "version": "3.12.8"
  }
 },
 "nbformat": 4,
 "nbformat_minor": 2
}
