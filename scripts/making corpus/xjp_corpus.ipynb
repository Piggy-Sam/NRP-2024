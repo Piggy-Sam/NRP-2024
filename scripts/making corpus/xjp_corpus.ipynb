{
 "cells": [
  {
   "cell_type": "code",
   "execution_count": 20,
   "metadata": {},
   "outputs": [],
   "source": [
    "import os\n",
    "import re\n",
    "from datetime import datetime\n",
    "\n",
    "# Define the paths\n",
    "input_folder = os.path.relpath(r'..\\..\\texts\\习近平谈治国理政')\n",
    "output_folder = os.path.relpath(r'..\\..\\corpus\\xi')\n",
    "\n",
    "# Create the output folder if it doesn't exist\n",
    "os.makedirs(output_folder, exist_ok=True)\n",
    "\n",
    "\n",
    "def update_filenames(in_folder, out_folder):\n",
    "    for file in os.listdir(in_folder):\n",
    "        filepath = os.path.join(in_folder, file)\n",
    "        # Extract the date from the filename\n",
    "        match = re.search(r'(\\d{4})年(\\d{1,2})月(\\d{1,2})日', file)\n",
    "        if match:\n",
    "            year, month, day = match.groups()\n",
    "            # Convert the date to the format of dd-mm-yyyy\n",
    "            date = datetime.strptime(f'{year}-{month}-{day}', '%Y-%m-%d').strftime('%d-%m-%Y')\n",
    "            # Create the new filename\n",
    "            new_filename = \".\".join([date, 'txt'])\n",
    "            new_filepath = os.path.join(out_folder, new_filename)\n",
    "            # Copy the file to the output folder with the new filename\n",
    "            with open(filepath, 'rb') as fsrc, open(new_filepath, 'wb') as fdst:\n",
    "                fdst.write(fsrc.read())\n",
    "            continue\n",
    "        print(f'No date found in {file}')\n"
   ]
  },
  {
   "cell_type": "code",
   "execution_count": 21,
   "metadata": {},
   "outputs": [],
   "source": [
    "def update_filenames_alt(in_folder, out_folder):\n",
    "    for file in os.listdir(in_folder):\n",
    "        filepath = os.path.join(in_folder, file)\n",
    "\n",
    "        with open(filepath, 'r', encoding='utf-8') as f:\n",
    "            for line in f:\n",
    "                # Extract the date from the line\n",
    "                match = re.search(r'(\\d{4})年(\\d{1,2})月(\\d{1,2})日', line)\n",
    "                if match:\n",
    "                    year, month, day = match.groups()\n",
    "                    # Convert the date to the format of dd-mm-yyyy\n",
    "                    date = datetime.strptime(f'{year}-{month}-{day}', '%Y-%m-%d').strftime('%d-%m-%Y')\n",
    "                    # Create the new filename\n",
    "                    new_filename = \".\".join([date, 'txt'])\n",
    "                    new_filepath = os.path.join(out_folder, new_filename)\n",
    "                    break\n",
    "            else:\n",
    "                # If no match is found, continue to the next file\n",
    "                print(f'No date found in {file}')\n",
    "\n",
    "        # Copy the file to the output folder with the new filename\n",
    "        with open(filepath, 'rb') as fsrc, open(new_filepath, 'wb') as fdst:\n",
    "            fdst.write(fsrc.read())\n"
   ]
  },
  {
   "cell_type": "code",
   "execution_count": 22,
   "metadata": {},
   "outputs": [],
   "source": [
    "# Folder 1\n",
    "in_folder = os.path.join(input_folder, str(1))\n",
    "update_filenames(in_folder, output_folder)\n",
    "        "
   ]
  },
  {
   "cell_type": "code",
   "execution_count": 23,
   "metadata": {},
   "outputs": [
    {
     "name": "stdout",
     "output_type": "stream",
     "text": [
      "No date found in 把新发展理念落到实处.txt\n",
      "No date found in 注重家庭，注重家教，注重家风.txt\n",
      "No date found in 要有高度的文化自信.txt\n"
     ]
    }
   ],
   "source": [
    "# Folder 2\n",
    "in_folder = os.path.join(input_folder, str(2))\n",
    "update_filenames_alt(in_folder, output_folder)"
   ]
  },
  {
   "cell_type": "code",
   "execution_count": 24,
   "metadata": {},
   "outputs": [],
   "source": [
    "# Folder 3\n",
    "in_folder = os.path.join(input_folder, str(3))\n",
    "update_filenames(in_folder, output_folder)"
   ]
  },
  {
   "cell_type": "code",
   "execution_count": null,
   "metadata": {},
   "outputs": [],
   "source": [
    "for file in os.listdir(output_folder):\n",
    "    filepath = os.path.join(output_folder, file)\n",
    "\n",
    "    # Extract the date from the filename\n",
    "    match = re.search(r'(\\d{4})年(\\d{1,2})月(\\d{1,2})日', file)\n",
    "\n",
    "    if match:\n",
    "        year, month, day = match.groups()\n",
    "        # Convert the date to the format of dd-mm-yyyy\n",
    "        date = datetime.strptime(f'{year}-{month}-{day}', '%Y-%m-%d').strftime('%d-%m-%Y')\n",
    "        # Create the new filename\n",
    "        new_filename = re.sub(r'\\d{4}年\\d{2}月\\d{2}日', date, file)\n",
    "        new_filepath = os.path.join(out_folder, new_filename)\n",
    "        # Copy the file to the output folder with the new filename\n",
    "        with open(filepath, 'rb') as fsrc, open(new_filepath, 'wb') as fdst:\n",
    "            fdst.write(fsrc.read())\n",
    "        continue\n",
    "    \n",
    "    print(f'No date found in {file}')"
   ]
  }
 ],
 "metadata": {
  "kernelspec": {
   "display_name": "Python 3",
   "language": "python",
   "name": "python3"
  },
  "language_info": {
   "codemirror_mode": {
    "name": "ipython",
    "version": 3
   },
   "file_extension": ".py",
   "mimetype": "text/x-python",
   "name": "python",
   "nbconvert_exporter": "python",
   "pygments_lexer": "ipython3",
   "version": "3.12.8"
  }
 },
 "nbformat": 4,
 "nbformat_minor": 2
}
