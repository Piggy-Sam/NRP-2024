{
 "cells": [
  {
   "cell_type": "code",
   "execution_count": 37,
   "metadata": {},
   "outputs": [],
   "source": [
    "from selenium import webdriver\n",
    "from selenium.webdriver.common.keys import Keys\n",
    "from selenium.webdriver.common.by import By\n",
    "\n",
    "import time\n",
    "\n",
    "driver = webdriver.Chrome()\n",
    "\n",
    "driver.get(\"http://jhsjk.people.cn/\")\n",
    "\n",
    "# 点击“讲话”按钮\n",
    "jhButton = driver.find_element(By.XPATH, '/html/body/div/div[3]/a[1]')\n",
    "jhButton.click()\n",
    "\n",
    "# Switch to the new tab\n",
    "driver.switch_to.window(driver.window_handles[-1])\n",
    "\n",
    "# Switch back to the original tab if needed\n",
    "# driver.switch_to.window(driver.window_handles[0])"
   ]
  },
  {
   "cell_type": "code",
   "execution_count": 57,
   "metadata": {},
   "outputs": [],
   "source": [
    "# Function to get URL from list items, 10 list items per page\n",
    "def get_urls():\n",
    "    urls = []\n",
    "    for i in range(1, 11):\n",
    "        xpath = f\"/html/body/div[6]/div[1]/ul/li[{i}]/a\"\n",
    "        try:\n",
    "            element = driver.find_element(By.XPATH, xpath)\n",
    "            url = element.get_attribute(\"href\")\n",
    "            urls.append(url)\n",
    "        except:\n",
    "            break\n",
    "    return urls"
   ]
  },
  {
   "cell_type": "code",
   "execution_count": 58,
   "metadata": {},
   "outputs": [],
   "source": [
    "urls = []\n",
    "# get_urls() on 1st page\n",
    "urls.extend(get_urls())\n",
    "\n",
    "# 2nd page\n",
    "driver.find_element(By.XPATH, '/html/body/div[6]/div[1]/div/span[2]').click()\n",
    "time.sleep(0.5)\n",
    "urls.extend(get_urls())\n",
    "\n",
    "# 3rd page\n",
    "driver.find_element(By.XPATH, '/html/body/div[6]/div[1]/div/span[3]').click()\n",
    "time.sleep(0.5)\n",
    "urls.extend(get_urls())\n",
    "\n",
    "# All pages afterwards\n",
    "while True:\n",
    "    try:\n",
    "        driver.find_element(By.XPATH, '/html/body/div[6]/div[1]/div/span[4]').click()\n",
    "        time.sleep(0.5)\n",
    "        urls.extend(get_urls())\n",
    "    except:\n",
    "        break\n",
    "\n",
    "urls = list(set(urls))"
   ]
  },
  {
   "cell_type": "code",
   "execution_count": 4,
   "metadata": {},
   "outputs": [],
   "source": [
    "# Save scrapped URLs to file\n",
    "\n",
    "with open('jhsjk_urls.txt', 'w') as file:\n",
    "    for url in urls:\n",
    "        file.write(url + '\\n')"
   ]
  },
  {
   "cell_type": "code",
   "execution_count": 2,
   "metadata": {},
   "outputs": [],
   "source": [
    "# Read URLs from file\n",
    "urls = []\n",
    "with open('jhsjk_urls.txt', 'r') as file:\n",
    "    for line in file:\n",
    "        url = line.strip()\n",
    "        urls.append(url)"
   ]
  },
  {
   "cell_type": "code",
   "execution_count": 1,
   "metadata": {},
   "outputs": [],
   "source": [
    "import requests\n",
    "from bs4 import BeautifulSoup\n",
    "import os\n",
    "from tqdm import tqdm\n",
    "\n",
    "\n",
    "directory = r'text_output/jhsjk'\n",
    "if not os.path.exists(directory):\n",
    "    os.makedirs(directory)\n",
    "\n",
    "\n",
    "def save_text(urls):\n",
    "    errUrls = []\n",
    "    for url in tqdm(urls):\n",
    "        try:\n",
    "            page = requests.get(url,\n",
    "                                headers={\"User-Agent\": \"Mozilla/5.0 (Windows NT 10.0; Win64; x64) AppleWebKit/537.36 (KHTML, like Gecko) Chrome/96.0.4664.93 Safari/537.36\"}\n",
    "                                )\n",
    "            soup = BeautifulSoup(page.text, 'html.parser')\n",
    "\n",
    "            title = soup.find('h1').get_text(strip=True).replace('\\n', ' ')\n",
    "            \n",
    "            headers = soup.find_all(['h1', 'h2', 'h3', 'h4', 'h5', 'h6'])\n",
    "            paragraphs = soup.find_all('p')\n",
    "            div_text = soup.find('div', class_='d2txt_1 clearfix')\n",
    "\n",
    "            filtered_text = [tag.get_text(strip=True) for tag in [div_text] + headers + [paragraphs[0]]]\n",
    "\n",
    "            file_path = f'{directory}/{title}.txt'\n",
    "            i = 1\n",
    "            while os.path.exists(file_path):\n",
    "                modified_title = f'{title}_{i}'\n",
    "                file_path = f'{directory}/{modified_title}.txt'\n",
    "                i += 1\n",
    "            \n",
    "            with open(file_path, 'w') as file:\n",
    "                for i, text in enumerate(filtered_text):\n",
    "                    if i == len(filtered_text) - 1:\n",
    "                        file.write(text)\n",
    "                    else:\n",
    "                        file.write(text + '\\n')\n",
    "\n",
    "        except:\n",
    "            print(f\"Error processing {url}\")\n",
    "            errUrls.append(url)\n",
    "    return errUrls\n"
   ]
  },
  {
   "cell_type": "code",
   "execution_count": 3,
   "metadata": {},
   "outputs": [
    {
     "name": "stderr",
     "output_type": "stream",
     "text": [
      "  0%|          | 0/800 [00:00<?, ?it/s]"
     ]
    },
    {
     "name": "stderr",
     "output_type": "stream",
     "text": [
      "100%|██████████| 800/800 [09:06<00:00,  1.46it/s]\n",
      "0it [00:00, ?it/s]\n"
     ]
    },
    {
     "data": {
      "text/plain": [
       "[]"
      ]
     },
     "execution_count": 3,
     "metadata": {},
     "output_type": "execute_result"
    }
   ],
   "source": [
    "# Will attempt to save once more the failed URLs\n",
    "errURLs = save_text(urls)\n",
    "save_text(errURLs)"
   ]
  }
 ],
 "metadata": {
  "kernelspec": {
   "display_name": "NRP",
   "language": "python",
   "name": "python3"
  },
  "language_info": {
   "codemirror_mode": {
    "name": "ipython",
    "version": 3
   },
   "file_extension": ".py",
   "mimetype": "text/x-python",
   "name": "python",
   "nbconvert_exporter": "python",
   "pygments_lexer": "ipython3",
   "version": "3.12.3"
  }
 },
 "nbformat": 4,
 "nbformat_minor": 2
}
