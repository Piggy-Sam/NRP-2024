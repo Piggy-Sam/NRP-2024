{
 "cells": [
  {
   "cell_type": "code",
   "execution_count": 1,
   "metadata": {},
   "outputs": [],
   "source": [
    "import requests\n",
    "\n",
    "URL = \"https://www.12371.cn/special/xxzd/jh/\"\n",
    "page = requests.get(URL)\n",
    "# print(page.text)"
   ]
  },
  {
   "cell_type": "code",
   "execution_count": 2,
   "metadata": {},
   "outputs": [],
   "source": [
    "# Find all URLs in page\n",
    "\n",
    "import re\n",
    "\n",
    "# Define the regular expression pattern to match URLs\n",
    "url_pattern = re.compile(r'http[s]?://(?:[a-zA-Z]|[0-9]|[$-_@.&+]|[!*\\\\(\\\\),]|(?:%[0-9a-fA-F][0-9a-fA-F]))+')\n",
    "\n",
    "# Find all URLs in the page text\n",
    "urls = re.findall(url_pattern, page.text)"
   ]
  },
  {
   "cell_type": "code",
   "execution_count": 6,
   "metadata": {},
   "outputs": [],
   "source": [
    "# Filter URLs to leave only the speech articles\n",
    "\n",
    "filtered_urls = [url for url in urls if \"news.12371.cn\" in url and \"ARTI\" in url]\n",
    "filtered_urls = [url.replace(\"','title':'\", \"\") for url in filtered_urls]\n",
    "\n",
    "filtered_urls = list(set(filtered_urls))\n"
   ]
  },
  {
   "cell_type": "code",
   "execution_count": 7,
   "metadata": {},
   "outputs": [],
   "source": [
    "# Write filtered URLs to a file\n",
    "\n",
    "with open('12371_urls.txt', 'w') as file:\n",
    "    for url in filtered_urls:\n",
    "        file.write(url + '\\n')"
   ]
  },
  {
   "cell_type": "code",
   "execution_count": 14,
   "metadata": {},
   "outputs": [],
   "source": [
    "# Read URLs from file\n",
    "urls = []\n",
    "with open('12371_urls.txt', 'r') as file:\n",
    "    for line in file:\n",
    "        url = line.strip()\n",
    "        urls.append(url)"
   ]
  },
  {
   "cell_type": "code",
   "execution_count": 13,
   "metadata": {},
   "outputs": [],
   "source": [
    "import requests\n",
    "from bs4 import BeautifulSoup\n",
    "import os\n",
    "from tqdm import tqdm\n",
    "\n",
    "directory = r'text_output/12371'\n",
    "if not os.path.exists(directory):\n",
    "    os.makedirs(directory)\n",
    "\n",
    "def save_text(urls):\n",
    "    errURLs = []\n",
    "    for url in tqdm(urls):\n",
    "        try:\n",
    "            page = requests.get(url)\n",
    "            page.encoding = page.apparent_encoding\n",
    "\n",
    "            # Create a BeautifulSoup object with the page content\n",
    "            soup = BeautifulSoup(page.text, 'html.parser')\n",
    "\n",
    "            meta = soup.find('i', class_=\"time\").text\n",
    "\n",
    "            title = soup.find('h1', class_=\"big_title\").text.replace('\\n', ' ').strip()\n",
    "\n",
    "            body_text = ''.join([element.text for element in soup.find_all('div', class_='con') if element.text.strip()])\n",
    "\n",
    "            if '延伸阅读' in body_text:\n",
    "                body_text = body_text.split('延伸阅读')[0]\n",
    "\n",
    "            file_path = f'{directory}/{title}.txt'\n",
    "            i = 1\n",
    "            while os.path.exists(file_path):\n",
    "                modified_title = f'{title}_{i}'\n",
    "                file_path = f'{directory}/{modified_title}.txt'\n",
    "                i += 1\n",
    "            \n",
    "            with open(file_path, 'w') as file:\n",
    "                file.write(meta + '\\n\\n')\n",
    "                file.write(title + '\\n\\n')\n",
    "                file.write(body_text)\n",
    "        \n",
    "        except:\n",
    "            print(f\"Error processing {url}\")\n",
    "            errURLs.append(url)\n",
    "            continue\n",
    "        \n",
    "    return errURLs\n",
    "\n"
   ]
  },
  {
   "cell_type": "code",
   "execution_count": 15,
   "metadata": {},
   "outputs": [
    {
     "name": "stderr",
     "output_type": "stream",
     "text": [
      "100%|██████████| 589/589 [05:02<00:00,  1.95it/s]\n",
      "0it [00:00, ?it/s]\n"
     ]
    },
    {
     "data": {
      "text/plain": [
       "[]"
      ]
     },
     "execution_count": 15,
     "metadata": {},
     "output_type": "execute_result"
    }
   ],
   "source": [
    "errURLs = save_text(urls)\n",
    "save_text(errURLs)"
   ]
  },
  {
   "cell_type": "code",
   "execution_count": 14,
   "metadata": {},
   "outputs": [],
   "source": []
  }
 ],
 "metadata": {
  "kernelspec": {
   "display_name": "Python 3",
   "language": "python",
   "name": "python3"
  },
  "language_info": {
   "codemirror_mode": {
    "name": "ipython",
    "version": 3
   },
   "file_extension": ".py",
   "mimetype": "text/x-python",
   "name": "python",
   "nbconvert_exporter": "python",
   "pygments_lexer": "ipython3",
   "version": "3.12.8"
  }
 },
 "nbformat": 4,
 "nbformat_minor": 2
}
